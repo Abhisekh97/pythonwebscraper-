{
  "nbformat": 4,
  "nbformat_minor": 0,
  "metadata": {
    "colab": {
      "name": "freecodecmap scraping.ipynb",
      "provenance": [],
      "collapsed_sections": [],
      "authorship_tag": "ABX9TyMDLtqEDChN+g+x239btYmA",
      "include_colab_link": true
    },
    "kernelspec": {
      "name": "python3",
      "display_name": "Python 3"
    }
  },
  "cells": [
    {
      "cell_type": "markdown",
      "metadata": {
        "id": "view-in-github",
        "colab_type": "text"
      },
      "source": [
        "<a href=\"https://colab.research.google.com/github/Abhisekh97/pythonwebscraper-/blob/main/freecodecmap_scraping.ipynb\" target=\"_parent\"><img src=\"https://colab.research.google.com/assets/colab-badge.svg\" alt=\"Open In Colab\"/></a>"
      ]
    },
    {
      "cell_type": "code",
      "metadata": {
        "id": "LvG8t1rTD4Kz"
      },
      "source": [
        "from bs4 import BeautifulSoup\r\n",
        "import requests\r\n",
        "import csv\r\n",
        "import pandas as pd\r\n"
      ],
      "execution_count": null,
      "outputs": []
    },
    {
      "cell_type": "code",
      "metadata": {
        "id": "qWezXN3pD9k3"
      },
      "source": [
        "def find_jobs():\r\n",
        "  html_text = requests.get('https://www.timesjobs.com/candidate/job-search.html?searchType=personalizedSearch&from=submit&txtKeywords=python&txtLocation=').text\r\n",
        "  soup = BeautifulSoup(html_text, 'lxml')\r\n",
        "  jobs = soup.find_all('li', class_ = 'clearfix job-bx wht-shd-bx')\r\n",
        "  row = []\r\n",
        "  for index ,job in enumerate(jobs):\r\n",
        "    published_date = job.find('span', class_='sim-posted').span.text\r\n",
        "    company_name = job.find('h3', class_ = 'joblist-comp-name').text.replace(' ','')\r\n",
        "    skills = job.find('span', class_ = 'srp-skills').text.replace(' ','')\r\n",
        "    more_info = job.header.h2.a['href']\r\n",
        "    if index == 0:\r\n",
        "      row.append(['Company Name','Skills Required', 'published date', 'Important links'])\r\n",
        "    \r\n",
        "    row.append( [company_name.strip(),skills.strip(),published_date,more_info])\r\n",
        "  return row\r\n",
        "\r\n",
        "if __name__ == '__main__':\r\n",
        "  array = find_jobs()\r\n",
        "  with open(\"post available.csv\",'w', newline='' ) as file:\r\n",
        "    write = csv.writer(file)\r\n",
        "    write.writerows(array)"
      ],
      "execution_count": null,
      "outputs": []
    },
    {
      "cell_type": "code",
      "metadata": {
        "colab": {
          "base_uri": "https://localhost:8080/",
          "height": 315
        },
        "id": "KqLdorZmE6xy",
        "outputId": "8b803060-e591-4229-edec-5d78ccb48f85"
      },
      "source": [
        "data = pd.read_csv('post available.csv')\r\n",
        "data.head()\r\n"
      ],
      "execution_count": null,
      "outputs": [
        {
          "output_type": "execute_result",
          "data": {
            "text/html": [
              "<div>\n",
              "<style scoped>\n",
              "    .dataframe tbody tr th:only-of-type {\n",
              "        vertical-align: middle;\n",
              "    }\n",
              "\n",
              "    .dataframe tbody tr th {\n",
              "        vertical-align: top;\n",
              "    }\n",
              "\n",
              "    .dataframe thead th {\n",
              "        text-align: right;\n",
              "    }\n",
              "</style>\n",
              "<table border=\"1\" class=\"dataframe\">\n",
              "  <thead>\n",
              "    <tr style=\"text-align: right;\">\n",
              "      <th></th>\n",
              "      <th>Company Name</th>\n",
              "      <th>Skills Required</th>\n",
              "      <th>published date</th>\n",
              "      <th>Important links</th>\n",
              "    </tr>\n",
              "  </thead>\n",
              "  <tbody>\n",
              "    <tr>\n",
              "      <th>0</th>\n",
              "      <td>3RITechnologiesPvtLtd</td>\n",
              "      <td>pythonscripting,xml,pl/sql,python,openerp</td>\n",
              "      <td>Posted few days ago</td>\n",
              "      <td>https://www.timesjobs.com/job-detail/python-3r...</td>\n",
              "    </tr>\n",
              "    <tr>\n",
              "      <th>1</th>\n",
              "      <td>SuryaInformaticsSolutionsPvt.Ltd.</td>\n",
              "      <td>python,webtechnologies,linux,mobile,mysql,angu...</td>\n",
              "      <td>Posted few days ago</td>\n",
              "      <td>https://www.timesjobs.com/job-detail/python-su...</td>\n",
              "    </tr>\n",
              "    <tr>\n",
              "      <th>2</th>\n",
              "      <td>Larsen&amp;ToubroInfotechLtd</td>\n",
              "      <td>python,bi,sql,visualstudio,database,ssrs</td>\n",
              "      <td>Posted few days ago</td>\n",
              "      <td>https://www.timesjobs.com/job-detail/python-la...</td>\n",
              "    </tr>\n",
              "    <tr>\n",
              "      <th>3</th>\n",
              "      <td>INFOWIZSoftwareSolutions</td>\n",
              "      <td>python,django,git,html5,debugging,svn,javascript</td>\n",
              "      <td>Posted few days ago</td>\n",
              "      <td>https://www.timesjobs.com/job-detail/python-in...</td>\n",
              "    </tr>\n",
              "    <tr>\n",
              "      <th>4</th>\n",
              "      <td>GEMINISOFTWARESOLUTIONS</td>\n",
              "      <td>python,mobile,svn,nosql,pythonscripting,git,sq...</td>\n",
              "      <td>Posted few days ago</td>\n",
              "      <td>https://www.timesjobs.com/job-detail/qa-python...</td>\n",
              "    </tr>\n",
              "  </tbody>\n",
              "</table>\n",
              "</div>"
            ],
            "text/plain": [
              "                        Company Name  ...                                    Important links\n",
              "0              3RITechnologiesPvtLtd  ...  https://www.timesjobs.com/job-detail/python-3r...\n",
              "1  SuryaInformaticsSolutionsPvt.Ltd.  ...  https://www.timesjobs.com/job-detail/python-su...\n",
              "2           Larsen&ToubroInfotechLtd  ...  https://www.timesjobs.com/job-detail/python-la...\n",
              "3           INFOWIZSoftwareSolutions  ...  https://www.timesjobs.com/job-detail/python-in...\n",
              "4            GEMINISOFTWARESOLUTIONS  ...  https://www.timesjobs.com/job-detail/qa-python...\n",
              "\n",
              "[5 rows x 4 columns]"
            ]
          },
          "metadata": {
            "tags": []
          },
          "execution_count": 16
        }
      ]
    },
    {
      "cell_type": "code",
      "metadata": {
        "id": "E4YRpbZxIL9W"
      },
      "source": [
        ""
      ],
      "execution_count": null,
      "outputs": []
    }
  ]
}